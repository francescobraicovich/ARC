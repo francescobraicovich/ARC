{
 "cells": [
  {
   "cell_type": "code",
   "execution_count": 1,
   "metadata": {},
   "outputs": [],
   "source": [
    "import matplotlib.pyplot as plt\n",
    "import numpy as np\n",
    "import json\n",
    "import random"
   ]
  },
  {
   "cell_type": "code",
   "execution_count": 2,
   "metadata": {},
   "outputs": [],
   "source": [
    "training_challenge_dict = json.load(open('../data/RAW_DATA_DIR/arc-prize-2024/arc-agi_training_challenges.json'))\n",
    "training_solutions_dict = json.load(open('../data/RAW_DATA_DIR/arc-prize-2024/arc-agi_training_solutions.json'))"
   ]
  },
  {
   "cell_type": "code",
   "execution_count": 3,
   "metadata": {},
   "outputs": [],
   "source": [
    "# find random keys from the training_challenge_dict\n",
    "random_keys = list(training_challenge_dict.keys())\n",
    "n = random.randint(0, len(random_keys))"
   ]
  },
  {
   "cell_type": "code",
   "execution_count": 4,
   "metadata": {},
   "outputs": [
    {
     "name": "stdout",
     "output_type": "stream",
     "text": [
      "[[6 2 5]\n",
      " [7 1 0]\n",
      " [7 0 8]\n",
      " [0 0 0]]\n",
      "[[1 2 0]\n",
      " [5 6 0]\n",
      " [9 0 0]\n",
      " [0 0 0]]\n",
      "[[False  True False]\n",
      " [False False  True]\n",
      " [False  True False]\n",
      " [ True  True  True]]\n",
      "6\n"
     ]
    }
   ],
   "source": [
    "#NOTE: This is our reward function\n",
    "\n",
    "def maximum_overlap_regions(array1, array2):\n",
    "        \"\"\"\n",
    "        Vectorized calculation of maximum overlap between two 2D arrays.\n",
    "        \"\"\"\n",
    "        shape1 = array1.shape\n",
    "        shape2 = array2.shape\n",
    "        \n",
    "        # Calculate possible positions for sliding array2 over array1\n",
    "        offsets_i = np.arange(-shape2[0] + 1, shape1[0])\n",
    "        offsets_j = np.arange(-shape2[1] + 1, shape1[1])\n",
    "        \n",
    "        # Create grids for all possible offsets\n",
    "        grid_i, grid_j = np.meshgrid(offsets_i, offsets_j, indexing='ij')\n",
    "        \n",
    "        # Calculate the valid overlap regions for each position\n",
    "        row_start1 = np.maximum(0, grid_i)\n",
    "        row_end1 = np.minimum(shape1[0], grid_i + shape2[0])\n",
    "        col_start1 = np.maximum(0, grid_j)\n",
    "        col_end1 = np.minimum(shape1[1], grid_j + shape2[1])\n",
    "        \n",
    "        row_start2 = np.maximum(0, -grid_i)\n",
    "        row_end2 = row_start2 + (row_end1 - row_start1)\n",
    "        col_start2 = np.maximum(0, -grid_j)\n",
    "        col_end2 = col_start2 + (col_end1 - col_start1)\n",
    "        \n",
    "        # Calculate overlap scores for all positions\n",
    "        max_overlap_score = 0\n",
    "        best_overlap1 = None\n",
    "        best_overlap2 = None\n",
    "        \n",
    "        for idx in np.ndindex(grid_i.shape):\n",
    "            r1s, r1e = row_start1[idx], row_end1[idx]\n",
    "            c1s, c1e = col_start1[idx], col_end1[idx]\n",
    "            r2s, r2e = row_start2[idx], row_end2[idx]\n",
    "            c2s, c2e = col_start2[idx], col_end2[idx]\n",
    "            \n",
    "            region1 = array1[r1s:r1e, c1s:c1e]\n",
    "            region2 = array2[r2s:r2e, c2s:c2e]\n",
    "            \n",
    "            overlap_score = np.sum(region1 == region2)\n",
    "            \n",
    "            if overlap_score > max_overlap_score:\n",
    "                max_overlap_score = overlap_score\n",
    "                best_overlap1 = (slice(r1s, r1e), slice(c1s, c1e))\n",
    "                best_overlap2 = (slice(r2s, r2e), slice(c2s, c2e))\n",
    "        \n",
    "        return best_overlap1, best_overlap2\n",
    "\n",
    "array1 = np.random.randint(0, 9, (30, 30))\n",
    "\n",
    "array2 = np.array([[1, 2, 0],\n",
    "                  [5, 6, 0],\n",
    "                  [9, 0, 0],\n",
    "                  [0, 0, 0]])\n",
    "\n",
    "overlap1, overlap2 = maximum_overlap_regions(array1, array2)\n",
    "print(array1[overlap1])\n",
    "print(array2[overlap2])\n",
    "print(array1[overlap1] == array2[overlap2])\n",
    "print(np.sum(array1[overlap1] == array2[overlap2]))\n"
   ]
  },
  {
   "cell_type": "markdown",
   "metadata": {},
   "source": [
    "## Difficult problems\n",
    "- a64e4611\n",
    "- cbded52d\n",
    "- 508bd3b6\n"
   ]
  },
  {
   "cell_type": "code",
   "execution_count": 5,
   "metadata": {},
   "outputs": [
    {
     "name": "stdout",
     "output_type": "stream",
     "text": [
      "Challenge key: 8e1813be\n"
     ]
    },
    {
     "data": {
      "image/png": "[encoded data removed]",
      "text/plain": [
       "<Figure size 800x1200 with 8 Axes>"
      ]
     },
     "metadata": {},
     "output_type": "display_data"
    }
   ],
   "source": [
    "# import the display_challenge function\n",
    "from dsl.utilities.plot import display_challenge, plot_grid\n",
    "\n",
    "# find the first challenge and solution\n",
    "challenge_key = '1f85a75f'\n",
    "challenge_key = random_keys[n]\n",
    "first_challenge = training_challenge_dict[challenge_key]\n",
    "first_solution = training_solutions_dict[challenge_key]\n",
    "\n",
    "print(f'Challenge key: {challenge_key}')\n",
    "\n",
    "# display the challenge\n",
    "display_challenge(challenge_key)"
   ]
  },
  {
   "cell_type": "code",
   "execution_count": 6,
   "metadata": {},
   "outputs": [
    {
     "data": {
      "image/png": "[encoded data removed]",
      "text/plain": [
       "<Figure size 400x400 with 1 Axes>"
      ]
     },
     "metadata": {},
     "output_type": "display_data"
    }
   ],
   "source": [
    "from dsl.utilities.plot import plot_grid \n",
    "arr = np.array([\n",
    "       [2, 2, 2, 2, 2, 2, 2, 2, 2, 2],\n",
    "       [0, 0, 1, 1, 0, 0, 0, 0, 2, 2],\n",
    "       [0, 0, 1, 1, 1, 1, 1, 0, 2, 2],\n",
    "       [0, 0, 0, 1, 1, 1, 0, 0, 2, 2],\n",
    "       [0, 0, 0, 1, 1, 1, 1, 1, 2, 2],\n",
    "       [0, 0, 0, 1, 0, 0, 1, 1, 2, 2],\n",
    "       [0, 0, 1, 1, 1, 1, 1, 0, 2, 2],\n",
    "       [0, 0, 0, 0, 0, 0, 0, 1, 0, 0],\n",
    "       [0, 1, 1, 0, 0, 0, 0, 0, 0, 0]])\n",
    "\n",
    "# plot the array as an image\n",
    "plot_grid(arr)"
   ]
  },
  {
   "cell_type": "code",
   "execution_count": 7,
   "metadata": {},
   "outputs": [
    {
     "name": "stdout",
     "output_type": "stream",
     "text": [
      "Most popular color: 0\n",
      "Least popular color: 2\n",
      "Second most popular color: 1\n",
      "Color of second biggest shape: 1\n",
      "Color of second biggest shape: 1\n"
     ]
    }
   ],
   "source": [
    "from dsl.color_select import ColorSelector\n",
    "\n",
    "colsel = ColorSelector()\n",
    "\n",
    "popular_color = colsel.mostcolor(arr)\n",
    "print(f'Most popular color: {popular_color}')\n",
    "least_popular_color = colsel.leastcolor(arr)\n",
    "print(f'Least popular color: {least_popular_color}')\n",
    "\n",
    "second_most_popular_color = colsel.rankcolor(arr, 1)\n",
    "print(f'Second most popular color: {second_most_popular_color}')\n",
    "\n",
    "color_of_second_biggest_shape = colsel.rank_largest_shape_color_nodiag(arr, 1)\n",
    "print(f'Color of second biggest shape: {color_of_second_biggest_shape}')\n",
    "\n",
    "color_of_second_biggest_shape = colsel.rank_largest_shape_color_diag(arr, 1)\n",
    "print(f'Color of second biggest shape: {color_of_second_biggest_shape}')"
   ]
  },
  {
   "cell_type": "code",
   "execution_count": 8,
   "metadata": {},
   "outputs": [
    {
     "name": "stdout",
     "output_type": "stream",
     "text": [
      "Selecting by color\n"
     ]
    },
    {
     "data": {
      "image/png": "[encoded data removed]",
      "text/plain": [
       "<Figure size 400x400 with 1 Axes>"
      ]
     },
     "metadata": {},
     "output_type": "display_data"
    },
    {
     "name": "stdout",
     "output_type": "stream",
     "text": [
      "Selecting colored rectange combinations\n"
     ]
    },
    {
     "data": {
      "image/png": "[encoded data removed]",
      "text/plain": [
       "<Figure size 1200x400 with 3 Axes>"
      ]
     },
     "metadata": {},
     "output_type": "display_data"
    },
    {
     "name": "stdout",
     "output_type": "stream",
     "text": [
      "Selecting cells adjacent to color\n"
     ]
    },
    {
     "data": {
      "image/png": "[encoded data removed]",
      "text/plain": [
       "<Figure size 1200x400 with 3 Axes>"
      ]
     },
     "metadata": {},
     "output_type": "display_data"
    }
   ],
   "source": [
    "from dsl.select import Selector\n",
    "from dsl.utilities.plot import plot_selection\n",
    "from skimage.segmentation import find_boundaries\n",
    "\n",
    "sel = Selector()\n",
    "\n",
    "print('Selecting by color')\n",
    "selection = sel.select_color(arr, 1)\n",
    "plot_selection(selection)\n",
    "\n",
    "print('Selecting colored rectange combinations')\n",
    "selection3 = sel.select_connected_shapes(arr, 1)\n",
    "plot_selection(selection3)\n",
    "\n",
    "print('Selecting cells adjacent to color')\n",
    "selection4 = sel.select_connected_shapes(arr, 1)\n",
    "plot_selection(selection4)"
   ]
  },
  {
   "cell_type": "code",
   "execution_count": 9,
   "metadata": {},
   "outputs": [
    {
     "name": "stdout",
     "output_type": "stream",
     "text": [
      "25956\n"
     ]
    }
   ],
   "source": [
    "from action_space import ARCActionSpace\n",
    "from dsl.transform import Transformer\n",
    "from dsl.utilities.plot import plot_grid_3d\n",
    "trn = Transformer()\n",
    "\n",
    "action_space = ARCActionSpace(colsel, sel, trn)\n",
    "print(len(action_space))"
   ]
  },
  {
   "cell_type": "code",
   "execution_count": 10,
   "metadata": {},
   "outputs": [
    {
     "name": "stdout",
     "output_type": "stream",
     "text": [
      "[[0 0 0 0 0 0 0 0 0 0]\n",
      " [0 0 1 1 0 0 0 0 0 0]\n",
      " [0 0 1 1 1 1 1 0 0 0]\n",
      " [0 0 0 1 1 1 0 0 0 0]\n",
      " [0 0 0 1 1 1 1 1 0 0]\n",
      " [0 0 0 1 0 0 1 1 0 2]\n",
      " [0 0 1 1 0 0 1 0 0 0]\n",
      " [0 0 0 0 0 0 0 3 0 0]\n",
      " [0 4 4 0 0 0 0 0 0 0]]\n"
     ]
    }
   ],
   "source": [
    "from scipy.ndimage import label\n",
    "\n",
    "arr = np.array([\n",
    "       [0, 0, 0, 0, 0, 0, 0, 0, 0, 0],\n",
    "       [0, 0, 1, 1, 0, 0, 0, 0, 0, 0],\n",
    "       [0, 0, 1, 1, 1, 1, 1, 0, 0, 0],\n",
    "       [0, 0, 0, 1, 1, 1, 0, 0, 0, 0],\n",
    "       [0, 0, 0, 1, 1, 1, 1, 1, 0, 0],\n",
    "       [0, 0, 0, 1, 0, 0, 1, 1, 0, 2],\n",
    "       [0, 0, 1, 1, 0, 0, 1, 0, 0, 0],\n",
    "       [0, 0, 0, 0, 0, 0, 0, 1, 0, 0],\n",
    "       [0, 1, 1, 0, 0, 0, 0, 0, 0, 0]])\n",
    "\n",
    "labels, nlabels = label(arr)\n",
    "print(labels)\n"
   ]
  },
  {
   "cell_type": "code",
   "execution_count": 27,
   "metadata": {},
   "outputs": [
    {
     "data": {
      "image/png": "[encoded data removed]",
      "text/plain": [
       "<Figure size 400x400 with 1 Axes>"
      ]
     },
     "metadata": {},
     "output_type": "display_data"
    },
    {
     "name": "stdout",
     "output_type": "stream",
     "text": [
      "Action:  [ 4 20 17]\n",
      "Action string:  42017\n",
      "Acting\n",
      "42\n",
      "17\n"
     ]
    },
    {
     "ename": "ValueError",
     "evalue": "invalid literal for int() with base 10: ''",
     "output_type": "error",
     "traceback": [
      "\u001b[0;31m---------------------------------------------------------------------------\u001b[0m",
      "\u001b[0;31mValueError\u001b[0m                                Traceback (most recent call last)",
      "Cell \u001b[0;32mIn[27], line 11\u001b[0m\n\u001b[1;32m      9\u001b[0m \u001b[38;5;28mprint\u001b[39m(\u001b[38;5;124m'\u001b[39m\u001b[38;5;124mAction: \u001b[39m\u001b[38;5;124m'\u001b[39m, action)\n\u001b[1;32m     10\u001b[0m \u001b[38;5;28mprint\u001b[39m(\u001b[38;5;124m'\u001b[39m\u001b[38;5;124mAction string: \u001b[39m\u001b[38;5;124m'\u001b[39m, action_string)\n\u001b[0;32m---> 11\u001b[0m state, reward, done, info \u001b[38;5;241m=\u001b[39m \u001b[43menv\u001b[49m\u001b[38;5;241;43m.\u001b[39;49m\u001b[43mstep\u001b[49m\u001b[43m(\u001b[49m\u001b[43maction_string\u001b[49m\u001b[43m)\u001b[49m\n\u001b[1;32m     12\u001b[0m plot_grid_3d(training_grid)\n",
      "File \u001b[0;32m~/Documents/Python/Personale/ARC/code/enviroment.py:259\u001b[0m, in \u001b[0;36mARC_Env.step\u001b[0;34m(self, action, max_states_per_action)\u001b[0m\n\u001b[1;32m    257\u001b[0m previous_state \u001b[38;5;241m=\u001b[39m \u001b[38;5;28mself\u001b[39m\u001b[38;5;241m.\u001b[39mstate[:, :\u001b[38;5;28mself\u001b[39m\u001b[38;5;241m.\u001b[39mdim] \u001b[38;5;66;03m# make the current state into the previous state\u001b[39;00m\n\u001b[1;32m    258\u001b[0m target_state \u001b[38;5;241m=\u001b[39m \u001b[38;5;28mself\u001b[39m\u001b[38;5;241m.\u001b[39mstate[:, \u001b[38;5;28mself\u001b[39m\u001b[38;5;241m.\u001b[39mdim:] \u001b[38;5;66;03m# get the target state\u001b[39;00m\n\u001b[0;32m--> 259\u001b[0m current_state_tensor \u001b[38;5;241m=\u001b[39m \u001b[38;5;28;43mself\u001b[39;49m\u001b[38;5;241;43m.\u001b[39;49m\u001b[43mact\u001b[49m\u001b[43m(\u001b[49m\u001b[43mprevious_state\u001b[49m\u001b[43m,\u001b[49m\u001b[43m \u001b[49m\u001b[43maction\u001b[49m\u001b[43m)\u001b[49m \u001b[38;5;66;03m# apply the action to the previous state\u001b[39;00m\n\u001b[1;32m    261\u001b[0m \u001b[38;5;66;03m# Initialize the rewards, dones, and current states tensors to store the results of the step function\u001b[39;00m\n\u001b[1;32m    262\u001b[0m rewards \u001b[38;5;241m=\u001b[39m np\u001b[38;5;241m.\u001b[39mzeros(current_state_tensor\u001b[38;5;241m.\u001b[39mshape[\u001b[38;5;241m0\u001b[39m]) \u001b[38;5;66;03m# initialize the rewards\u001b[39;00m\n",
      "File \u001b[0;32m~/Documents/Python/Personale/ARC/code/enviroment.py:234\u001b[0m, in \u001b[0;36mARC_Env.act\u001b[0;34m(self, previous_state, action)\u001b[0m\n\u001b[1;32m    232\u001b[0m selection_key \u001b[38;5;241m=\u001b[39m\u001b[38;5;28mint\u001b[39m(\u001b[38;5;124m\"\u001b[39m\u001b[38;5;124m\"\u001b[39m\u001b[38;5;241m.\u001b[39mjoin(\u001b[38;5;28mmap\u001b[39m(\u001b[38;5;28mstr\u001b[39m, action[\u001b[38;5;241m2\u001b[39m:\u001b[38;5;241m5\u001b[39m])))\n\u001b[1;32m    233\u001b[0m \u001b[38;5;28mprint\u001b[39m(selection_key)\n\u001b[0;32m--> 234\u001b[0m transformation_key \u001b[38;5;241m=\u001b[39m \u001b[38;5;28;43mint\u001b[39;49m\u001b[43m(\u001b[49m\u001b[38;5;124;43m\"\u001b[39;49m\u001b[38;5;124;43m\"\u001b[39;49m\u001b[38;5;241;43m.\u001b[39;49m\u001b[43mjoin\u001b[49m\u001b[43m(\u001b[49m\u001b[38;5;28;43mmap\u001b[39;49m\u001b[43m(\u001b[49m\u001b[38;5;28;43mstr\u001b[39;49m\u001b[43m,\u001b[49m\u001b[43m \u001b[49m\u001b[43maction\u001b[49m\u001b[43m[\u001b[49m\u001b[38;5;241;43m5\u001b[39;49m\u001b[43m:\u001b[49m\u001b[43m]\u001b[49m\u001b[43m)\u001b[49m\u001b[43m)\u001b[49m\u001b[43m)\u001b[49m\n\u001b[1;32m    235\u001b[0m \u001b[38;5;28mprint\u001b[39m(transformation_key)\n\u001b[1;32m    237\u001b[0m \u001b[38;5;66;03m# Extract the color selection, selection, and transformation\u001b[39;00m\n",
      "\u001b[0;31mValueError\u001b[0m: invalid literal for int() with base 10: ''"
     ]
    }
   ],
   "source": [
    "from enviroment import ARC_Env\n",
    "\n",
    "env = ARC_Env(training_challenge_dict, action_space=action_space)\n",
    "env.reset()\n",
    "plot_grid_3d(env.state)\n",
    "for i in range(10):\n",
    "    action = random.choice(action_space.space)\n",
    "    action_string = str(action[0]) + str(action[1]) + str(action[2])\n",
    "    print('Action: ', action)\n",
    "    print('Action string: ', action_string)\n",
    "    state, reward, done, info = env.step(action_string)\n",
    "    plot_grid_3d(training_grid)"
   ]
  },
  {
   "cell_type": "code",
   "execution_count": null,
   "metadata": {},
   "outputs": [
    {
     "name": "stdout",
     "output_type": "stream",
     "text": [
      "\n",
      "Original Grid:\n",
      "[[0 0 0 0 0 0]\n",
      " [0 0 0 0 0 0]\n",
      " [1 1 0 0 0 0]\n",
      " [1 1 0 0 0 0]\n",
      " [1 1 0 0 0 0]]\n",
      "\n",
      "Enlarged Grid:\n",
      "[[0 0 0 0 0 0 0 0 0 0 0 0 0]\n",
      " [0 0 0 0 0 0 0 0 0 0 0 0 0]\n",
      " [0 0 0 0 0 0 0 0 0 0 0 0 0]\n",
      " [0 0 0 0 0 0 0 0 0 0 0 0 0]\n",
      " [0 1 1 1 1 0 0 0 0 0 0 0 0]\n",
      " [0 1 1 1 1 0 0 0 0 0 0 0 0]\n",
      " [0 1 1 1 1 0 0 0 0 0 0 0 0]\n",
      " [0 1 1 1 1 0 0 0 0 0 0 0 0]\n",
      " [0 1 1 1 1 0 0 0 0 0 0 0 0]\n",
      " [0 1 1 1 1 0 0 0 0 0 0 0 0]\n",
      " [0 0 0 0 0 0 0 0 0 0 0 0 0]]\n"
     ]
    }
   ],
   "source": [
    "import numpy as np\n",
    "\n",
    "def enlarge(grid, selection, radius):\n",
    "    \"\"\"\n",
    "    Enlarges the selected shape in the grid by a given radius, adding rows and columns of zeros between existing rows and columns.\n",
    "    \n",
    "    Args:\n",
    "        grid (np.ndarray): The original input grid\n",
    "        selection (np.ndarray): A binary mask indicating the shape (same shape as grid)\n",
    "        radius (int): Number of cells to expand outward\n",
    "        \n",
    "    Returns:\n",
    "        np.ndarray: A new grid with the enlarged shape\n",
    "    #TODO: In the DRL environment radius will probably have to be an iterable for low numbers (likely between 1 and 3)\n",
    "    \"\"\"\n",
    "    # Ensure grid and selection are the same shape\n",
    "    assert grid.shape == selection.shape, \"Grid and each selection layer must have the same shape.\"\n",
    "    \n",
    "    rows, cols = grid.shape\n",
    "    # Create a larger grid with interstitial spaces\n",
    "    new_rows = rows * 2 - 1\n",
    "    new_cols = cols * 2 - 1\n",
    "    \n",
    "    # Add padding for the expansion\n",
    "    pad_rows = radius\n",
    "    pad_cols = radius\n",
    "    total_rows = new_rows + 2 * pad_rows\n",
    "    total_cols = new_cols + 2 * pad_cols\n",
    "    \n",
    "    # Create padded grid with zeros\n",
    "    padded_grid = np.zeros((total_rows, total_cols), dtype=grid.dtype)\n",
    "    padded_selection = np.zeros((total_rows, total_cols), dtype=selection.dtype)\n",
    "    \n",
    "    \n",
    "    # Fill original positions (accounting for padding offset)\n",
    "    for i in range(rows):\n",
    "        for j in range(cols):\n",
    "            if selection[i, j] == 1 and grid[i, j] == 1:\n",
    "                padded_grid[pad_rows + i*2, pad_cols + j*2] = 1\n",
    "                padded_selection[pad_rows + i*2, pad_cols + j*2] = 1\n",
    "    \n",
    "    # Find all non-zero elements in the grid (enlargement origins)\n",
    "    enlargement_origins = np.argwhere(padded_grid != 0)\n",
    "\n",
    "    # Iterate over each origin\n",
    "    for origin in enlargement_origins:\n",
    "        row, col = origin\n",
    "\n",
    "        # Vertical (upwards)\n",
    "        for r in range(1, radius + 1):\n",
    "            if row - r >= 0:  # Ensure we don't go out of bounds\n",
    "                padded_grid[row - r, col] = 1\n",
    "\n",
    "        # Horizontal (rightwards)\n",
    "        for c in range(1, radius + 1):\n",
    "            if col + c < padded_grid.shape[1]:  # Ensure we don't go out of bounds\n",
    "                padded_grid[row, col + c] = 1\n",
    "\n",
    "        # Diagonal (right-up)\n",
    "        for d in range(1, radius + 1):\n",
    "            if row - d >= 0 and col + d < padded_grid.shape[1]:  # Ensure we don't go out of bounds\n",
    "                padded_grid[row - d, col + d] = 1\n",
    "\n",
    "    return padded_grid\n",
    "\n",
    "\n",
    "# Test the function\n",
    "grid = np.array([\n",
    "    [0, 0, 0, 0, 0, 0],\n",
    "    [0, 0, 0, 0, 0, 0],\n",
    "    [1, 1, 0, 0, 0, 0],\n",
    "    [1, 1, 0, 0, 0, 0],\n",
    "    [1, 1, 0, 0, 0, 0],\n",
    "])\n",
    "\n",
    "selection = np.array([\n",
    "    [0, 0, 0, 0, 0, 0],\n",
    "    [1, 1, 1, 0, 0, 0],\n",
    "    [1, 1, 1, 0, 0, 0],\n",
    "    [1, 1, 1, 0, 0, 0],\n",
    "    [1, 1, 1, 0, 0, 0],\n",
    "])\n",
    "\n",
    "# Enlarge the selection with a radius of 1 and include diagonal neighbors\n",
    "result = enlarge(grid, selection, radius=1)\n",
    "\n",
    "# Print results\n",
    "print(\"\\nOriginal Grid:\")\n",
    "print(grid)\n",
    "print(\"\\nEnlarged Grid:\")\n",
    "print(result)\n",
    "\n"
   ]
  },
  {
   "cell_type": "code",
   "execution_count": null,
   "metadata": {},
   "outputs": [
    {
     "ename": "AssertionError",
     "evalue": "Grid dimensions must be divisible by scale_factor.",
     "output_type": "error",
     "traceback": [
      "\u001b[0;31m---------------------------------------------------------------------------\u001b[0m",
      "\u001b[0;31mAssertionError\u001b[0m                            Traceback (most recent call last)",
      "Cell \u001b[0;32mIn[13], line 53\u001b[0m\n\u001b[1;32m     45\u001b[0m selection \u001b[38;5;241m=\u001b[39m np\u001b[38;5;241m.\u001b[39marray([\n\u001b[1;32m     46\u001b[0m     [\u001b[38;5;241m0\u001b[39m, \u001b[38;5;241m0\u001b[39m, \u001b[38;5;241m0\u001b[39m, \u001b[38;5;241m0\u001b[39m, \u001b[38;5;241m0\u001b[39m, \u001b[38;5;241m0\u001b[39m],\n\u001b[1;32m     47\u001b[0m     [\u001b[38;5;241m1\u001b[39m, \u001b[38;5;241m1\u001b[39m, \u001b[38;5;241m1\u001b[39m, \u001b[38;5;241m0\u001b[39m, \u001b[38;5;241m0\u001b[39m, \u001b[38;5;241m0\u001b[39m],\n\u001b[1;32m     48\u001b[0m     [\u001b[38;5;241m1\u001b[39m, \u001b[38;5;241m1\u001b[39m, \u001b[38;5;241m1\u001b[39m, \u001b[38;5;241m0\u001b[39m, \u001b[38;5;241m0\u001b[39m, \u001b[38;5;241m0\u001b[39m],\n\u001b[1;32m     49\u001b[0m     [\u001b[38;5;241m1\u001b[39m, \u001b[38;5;241m1\u001b[39m, \u001b[38;5;241m1\u001b[39m, \u001b[38;5;241m0\u001b[39m, \u001b[38;5;241m0\u001b[39m, \u001b[38;5;241m0\u001b[39m]\n\u001b[1;32m     50\u001b[0m ])\n\u001b[1;32m     52\u001b[0m \u001b[38;5;66;03m# Enlarge the selection with a radius of 1\u001b[39;00m\n\u001b[0;32m---> 53\u001b[0m result \u001b[38;5;241m=\u001b[39m \u001b[43mdownscale\u001b[49m\u001b[43m(\u001b[49m\u001b[43mgrid\u001b[49m\u001b[43m,\u001b[49m\u001b[43m \u001b[49m\u001b[38;5;241;43m3\u001b[39;49m\u001b[43m)\u001b[49m\n\u001b[1;32m     55\u001b[0m \u001b[38;5;28mprint\u001b[39m(\u001b[38;5;124m\"\u001b[39m\u001b[38;5;130;01m\\n\u001b[39;00m\u001b[38;5;124mOriginal Grid:\u001b[39m\u001b[38;5;124m\"\u001b[39m)\n\u001b[1;32m     56\u001b[0m \u001b[38;5;28mprint\u001b[39m(grid)\n",
      "Cell \u001b[0;32mIn[13], line 15\u001b[0m, in \u001b[0;36mdownscale\u001b[0;34m(grid, scale_factor, aggregation_fn)\u001b[0m\n\u001b[1;32m      3\u001b[0m \u001b[38;5;28;01mdef\u001b[39;00m \u001b[38;5;21mdownscale\u001b[39m(grid, scale_factor, aggregation_fn\u001b[38;5;241m=\u001b[39mnp\u001b[38;5;241m.\u001b[39mmax):\n\u001b[1;32m      4\u001b[0m \u001b[38;5;250m    \u001b[39m\u001b[38;5;124;03m\"\"\"\u001b[39;00m\n\u001b[1;32m      5\u001b[0m \u001b[38;5;124;03m    Downscales a grid by a given scale factor using a specified aggregation function.\u001b[39;00m\n\u001b[1;32m      6\u001b[0m \u001b[38;5;124;03m    \u001b[39;00m\n\u001b[0;32m   (...)\u001b[0m\n\u001b[1;32m     13\u001b[0m \u001b[38;5;124;03m        np.ndarray: The downscaled grid.\u001b[39;00m\n\u001b[1;32m     14\u001b[0m \u001b[38;5;124;03m    \"\"\"\u001b[39;00m\n\u001b[0;32m---> 15\u001b[0m     \u001b[38;5;28;01massert\u001b[39;00m grid\u001b[38;5;241m.\u001b[39mshape[\u001b[38;5;241m0\u001b[39m] \u001b[38;5;241m%\u001b[39m scale_factor \u001b[38;5;241m==\u001b[39m \u001b[38;5;241m0\u001b[39m \u001b[38;5;129;01mand\u001b[39;00m grid\u001b[38;5;241m.\u001b[39mshape[\u001b[38;5;241m1\u001b[39m] \u001b[38;5;241m%\u001b[39m scale_factor \u001b[38;5;241m==\u001b[39m \u001b[38;5;241m0\u001b[39m, \\\n\u001b[1;32m     16\u001b[0m         \u001b[38;5;124m\"\u001b[39m\u001b[38;5;124mGrid dimensions must be divisible by scale_factor.\u001b[39m\u001b[38;5;124m\"\u001b[39m\n\u001b[1;32m     18\u001b[0m     rows, cols \u001b[38;5;241m=\u001b[39m grid\u001b[38;5;241m.\u001b[39mshape\n\u001b[1;32m     19\u001b[0m     new_rows \u001b[38;5;241m=\u001b[39m rows \u001b[38;5;241m/\u001b[39m\u001b[38;5;241m/\u001b[39m scale_factor\n",
      "\u001b[0;31mAssertionError\u001b[0m: Grid dimensions must be divisible by scale_factor."
     ]
    }
   ],
   "source": [
    "import numpy as np\n",
    "\n",
    "def downscale(grid, scale_factor, aggregation_fn=np.max):\n",
    "    \"\"\"\n",
    "    Downscales a grid by a given scale factor using a specified aggregation function.\n",
    "    \n",
    "    Args:\n",
    "        grid (np.ndarray): The input grid to downscale.\n",
    "        scale_factor (int): The factor by which to reduce the grid's size.\n",
    "        aggregation_fn (callable): The function to aggregate values in each block (default: np.max).\n",
    "    \n",
    "    Returns:\n",
    "        np.ndarray: The downscaled grid.\n",
    "    \"\"\"\n",
    "    assert grid.shape[0] % scale_factor == 0 and grid.shape[1] % scale_factor == 0, \\\n",
    "        \"Grid dimensions must be divisible by scale_factor.\"\n",
    "    \n",
    "    rows, cols = grid.shape\n",
    "    new_rows = rows // scale_factor\n",
    "    new_cols = cols // scale_factor\n",
    "\n",
    "    # Create the downscaled grid\n",
    "    downscaled_grid = np.zeros((new_rows, new_cols), dtype=grid.dtype)\n",
    "\n",
    "    # Iterate over blocks and apply aggregation function\n",
    "    for i in range(new_rows):\n",
    "        for j in range(new_cols):\n",
    "            block = grid[\n",
    "                i * scale_factor:(i + 1) * scale_factor,\n",
    "                j * scale_factor:(j + 1) * scale_factor\n",
    "            ]\n",
    "            downscaled_grid[i, j] = aggregation_fn(block)\n",
    "\n",
    "    return downscaled_grid\n",
    "\n",
    "# Test the function\n",
    "grid = np.array([\n",
    "    [0, 0, 0, 0, 0, 0],\n",
    "    [1, 1, 1, 1, 0, 0],\n",
    "    [1, 1, 1, 1, 0, 0],\n",
    "    [1, 1, 1, 1, 0, 0],\n",
    "    [1, 1, 1, 1, 0, 0]\n",
    "])\n",
    "\n",
    "selection = np.array([\n",
    "    [0, 0, 0, 0, 0, 0],\n",
    "    [1, 1, 1, 0, 0, 0],\n",
    "    [1, 1, 1, 0, 0, 0],\n",
    "    [1, 1, 1, 0, 0, 0]\n",
    "])\n",
    "\n",
    "# Enlarge the selection with a radius of 1\n",
    "result = downscale(grid, 3)\n",
    "\n",
    "print(\"\\nOriginal Grid:\")\n",
    "print(grid)\n",
    "print(\"\\nEnlarged Grid:\")\n",
    "print(result.astype(int))  # Convert to int for cleaner printing\n"
   ]
  },
  {
   "cell_type": "markdown",
   "metadata": {},
   "source": [
    "Testing"
   ]
  },
  {
   "cell_type": "code",
   "execution_count": null,
   "metadata": {},
   "outputs": [],
   "source": [
    "import numpy as np\n",
    "from dsl.select import Selector\n",
    "from dsl.transform import Transformer     \n",
    "from dsl.transform import Transformer\n",
    "from dsl.utilities.plot import plot_grid_3d, plot_selection, plot_grid\n",
    "\n",
    "\n",
    "arr = np.array([\n",
    "       [2, 2, 2, 2, 2, 2, 2, 2, 2, 2],\n",
    "       [0, 0, 1, 1, 0, 0, 0, 0, 2, 2],\n",
    "       [0, 0, 1, 1, 1, 1, 1, 0, 2, 2],\n",
    "       [0, 0, 0, 1, 1, 1, 0, 0, 2, 2],\n",
    "       [0, 0, 0, 1, 1, 1, 1, 1, 2, 2],\n",
    "       [0, 0, 0, 1, 0, 0, 1, 1, 2, 2],\n",
    "       [0, 0, 1, 1, 1, 1, 1, 0, 2, 2],\n",
    "       [0, 0, 0, 0, 0, 0, 0, 1, 0, 0],\n",
    "       [0, 1, 1, 0, 0, 0, 0, 0, 0, 0]])\n",
    "\n",
    "# plot the array as an image\n",
    "plot_grid(arr)\n",
    "sel = Selector(arr.shape)\n",
    "trn = Transformer()\n",
    "print('Selecting cells adjacent to color')\n",
    "selection4 = sel.select_connected_shapes(arr, 1)\n",
    "plot_selection(selection4)\n",
    "print('Shift cells')\n",
    "transformed5 = trn.change_background_color(arr, selection4,7)\n",
    "plot_grid_3d(transformed5)"
   ]
  },
  {
   "cell_type": "code",
   "execution_count": null,
   "metadata": {},
   "outputs": [],
   "source": [
    "import numpy as np\n",
    "from dsl.select import Selector\n",
    "from dsl.transform import Transformer     \n",
    "from dsl.transform import Transformer\n",
    "from dsl.utilities.plot import plot_grid_3d, plot_selection, plot_grid\n",
    "\n",
    "\n",
    "arr1 = np.array([\n",
    "       [2, 2, 2, 2, 2, 2, 2, 2, 2, 2],\n",
    "       [0, 0, 1, 1, 0, 0, 0, 0, 2, 2],\n",
    "       [0, 0, 1, 1, 1, 1, 1, 0, 2, 2],\n",
    "       [0, 0, 0, 1, 1, 1, 0, 0, 2, 2],\n",
    "       [0, 0, 0, 1, 1, 1, 1, 1, 2, 2],\n",
    "       [0, 0, 0, 1, 0, 0, 1, 1, 2, 2],\n",
    "       [0, 0, 1, 1, 1, 1, 1, 0, 2, 2],\n",
    "       [0, 0, 0, 0, 0, 0, 0, 1, 0, 0],\n",
    "       [0, 1, 1, 0, 0, 0, 0, 0, 0, 0]])\n",
    "\n",
    "arr2 = np.array([\n",
    "       [2, 2, 2, 2, 2, 2, 2, 2, 2, 2],\n",
    "       [0, 0, 1, 1, 0, 0, 0, 0, 2, 2],\n",
    "       [0, 0, 1, 1, 1, 1, 1, 0, 2, 2],\n",
    "       [0, 0, 0, 1, 1, 1, 0, 0, 2, 2],\n",
    "       [0, 0, 0, 1, 1, 1, 1, 1, 2, 2],\n",
    "       [0, 0, 0, 1, 0, 0, 1, 1, 2, 2],\n",
    "       [0, 0, 1, 1, 1, 1, 1, 0, 2, 2],\n",
    "       [0, 0, 0, 0, 0, 0, 0, 1, 0, 0],\n",
    "       [0, 1, 1, 0, 0, 0, 0, 0, 0, 0]])\n",
    "\n",
    "# plot the array as an image\n",
    "plot_grid(arr1)\n",
    "sel1 = Selector(arr1.shape)\n",
    "sel2 = Selector(arr2.shape)\n",
    "trn = Transformer()\n",
    "print('Selecting cells adjacent to color')\n",
    "selection4 = sel1.select_connected_shapes(arr1, 1)\n",
    "selection5 = sel2.select_connected_shapes(arr2, 1)\n",
    "plot_selection(selection4)\n",
    "print('Vupscale')\n",
    "transformed5 = trn.vupscale(arr1, selection4, 2)\n",
    "plot_grid_3d(transformed5)\n",
    "print('Vectorized Vupscale')\n",
    "transformed6 = trn.vectorized_vupscale(arr2, selection4, 2)\n",
    "plot_grid_3d(transformed6)"
   ]
  },
  {
   "cell_type": "code",
   "execution_count": null,
   "metadata": {},
   "outputs": [],
   "source": [
    "import numpy as np\n",
    "from dsl.select import Selector\n",
    "from dsl.transform import Transformer     \n",
    "from dsl.transform import Transformer\n",
    "from dsl.utilities.plot import plot_grid_3d, plot_selection, plot_grid\n",
    "from dsl.utilities.transformation_utilities import center_of_mass\n",
    "\n",
    "\n",
    "arr1 = np.array([\n",
    "       [2, 2, 2, 2, 2, 2, 2, 2, 2, 2],\n",
    "       [2, 0, 0, 0, 0, 0, 0, 0, 0, 2],\n",
    "       [2, 0, 1, 1, 1, 1, 0, 0, 0, 2],\n",
    "       [2, 0, 1, 0, 0, 1, 0, 0, 0, 2],\n",
    "       [2, 0, 1, 1, 1, 1, 0, 0, 0, 2],\n",
    "       [2, 0, 0, 0, 0, 0, 1, 1, 1, 2],\n",
    "       [2, 0, 0, 0, 0, 0, 1, 0, 1, 2],\n",
    "       [2, 0, 0, 0, 0, 0, 1, 1, 1, 2],\n",
    "       [2, 2, 2, 2, 2, 2, 2, 2, 2, 2]])\n",
    "\n",
    "arr2 = np.array([\n",
    "       [2, 2, 2, 2, 2, 2, 2, 2, 2, 2],\n",
    "       [2, 0, 0, 0, 0, 0, 0, 0, 0, 2],\n",
    "       [2, 0, 1, 1, 1, 1, 0, 0, 0, 2],\n",
    "       [2, 0, 1, 0, 0, 1, 0, 0, 0, 2],\n",
    "       [2, 0, 1, 1, 1, 1, 0, 0, 0, 2],\n",
    "       [2, 0, 0, 0, 0, 0, 1, 1, 1, 2],\n",
    "       [2, 0, 0, 0, 0, 0, 1, 0, 1, 2],\n",
    "       [2, 0, 0, 0, 0, 0, 1, 1, 1, 2],\n",
    "       [2, 2, 2, 2, 2, 2, 2, 2, 2, 2]])\n",
    "\n",
    "# plot the array as an image\n",
    "plot_grid(arr1)\n",
    "sel1 = Selector(arr1.shape)\n",
    "sel2 = Selector(arr2.shape)\n",
    "trn = Transformer()\n",
    "print('Selecting cells adjacent to color')\n",
    "selection4 = sel1.select_connected_shapes(arr1, 1)\n",
    "selection5 = sel2.select_connected_shapes(arr2, 1)\n",
    "plot_selection(selection4)\n",
    "print('Vupscale')\n",
    "transformed5 = trn.vupscale(arr1, selection4, 2)\n",
    "plot_grid_3d(transformed5)\n",
    "print('Vectorized Vupscale')\n",
    "transformed6 = trn.vectorized_vupscale(arr2, selection4, 2)\n",
    "plot_grid_3d(transformed6)\n",
    "\n",
    "\n",
    "\n",
    "CoM1 = center_of_mass(selection4[0])\n",
    "CoM2 = center_of_mass(selection4[1])\n",
    "print(f'Center of mass of shape 0: {CoM1}')\n",
    "print(f'Center of mass of shape 1: {CoM2}')"
   ]
  }
 ],
 "metadata": {
  "kernelspec": {
   "display_name": "arcenv",
   "language": "python",
   "name": "python3"
  },
  "language_info": {
   "codemirror_mode": {
    "name": "ipython",
    "version": 3
   },
   "file_extension": ".py",
   "mimetype": "text/x-python",
   "name": "python",
   "nbconvert_exporter": "python",
   "pygments_lexer": "ipython3",
   "version": "3.11.7"
  }
 },
 "nbformat": 4,
 "nbformat_minor": 2
}
