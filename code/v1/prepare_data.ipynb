{
 "cells": [
  {
   "cell_type": "code",
   "execution_count": 282,
   "metadata": {},
   "outputs": [],
   "source": [
    "import json\n",
    "import pandas as pd\n",
    "import numpy as np\n",
    "\n",
    "import torch\n",
    "import torch.nn as nn\n",
    "import torch.optim as optim\n",
    "\n",
    "import warnings\n"
   ]
  },
  {
   "cell_type": "code",
   "execution_count": 283,
   "metadata": {},
   "outputs": [],
   "source": [
    "training_challenge_dict = json.load(open('../data/RAW_DATA_DIR/arc-prize-2024/arc-agi_training_challenges.json'))\n",
    "training_solutions_dict = json.load(open('../data/RAW_DATA_DIR/arc-prize-2024/arc-agi_training_solutions.json'))"
   ]
  },
  {
   "cell_type": "code",
   "execution_count": 284,
   "metadata": {},
   "outputs": [],
   "source": [
    "def create_input_output_pairs(training_challenge_dict, training_solutions_dict):\n",
    "    input_output_pairs = []\n",
    "    \n",
    "    for challenge_id, challenge in training_challenge_dict.items():\n",
    "        train = challenge['train']\n",
    "        test = challenge['test']\n",
    "\n",
    "        # find how many examples there are in the train\n",
    "        num_train_examples = len(train)\n",
    "\n",
    "        for i in range(num_train_examples):\n",
    "            input_output_pairs.append({\n",
    "                'input': train[i]['input'],\n",
    "                'output': train[i]['output'],\n",
    "                'challenge_id': challenge_id,\n",
    "            })\n",
    "\n",
    "        test_input = test[0]['input']\n",
    "        test_output = training_solutions_dict[challenge_id][0]\n",
    "        input_output_pairs.append({\n",
    "            'input': test_input,\n",
    "            'output': test_output,\n",
    "            'challenge_id': challenge_id,\n",
    "        })\n",
    "        \n",
    "    return input_output_pairs\n",
    "\n",
    "input_output_pairs = create_input_output_pairs(training_challenge_dict, training_solutions_dict)"
   ]
  },
  {
   "cell_type": "code",
   "execution_count": 285,
   "metadata": {},
   "outputs": [],
   "source": [
    "def create_dataset(training_challenge_dict, training_solutions_dict):\n",
    "    dict = {\n",
    "        'input': [],\n",
    "        'output': [],\n",
    "        'challenge_id': []\n",
    "    }\n",
    "\n",
    "    for challenge_id, challenge in training_challenge_dict.items():\n",
    "        train = challenge['train']\n",
    "        test = challenge['test']\n",
    "\n",
    "        for i in range(len(train)):\n",
    "            dict['input'].append(torch.tensor(train[i]['input'], dtype=torch.float32).unsqueeze(0).unsqueeze(0))\n",
    "            dict['output'].append(torch.tensor(train[i]['output'], dtype=torch.float32).unsqueeze(0).unsqueeze(0))\n",
    "            dict['challenge_id'].append(challenge_id)\n",
    "\n",
    "        dict['input'].append(torch.tensor(test[0]['input'], dtype=torch.float32).unsqueeze(0).unsqueeze(0))\n",
    "        dict['output'].append(torch.tensor(training_solutions_dict[challenge_id][0], dtype=torch.float32).unsqueeze(0).unsqueeze(0))\n",
    "        dict['challenge_id'].append(challenge_id)\n",
    "\n",
    "    return pd.DataFrame(dict)\n",
    "\n",
    "dataset = create_dataset(training_challenge_dict, training_solutions_dict)"
   ]
  },
  {
   "cell_type": "code",
   "execution_count": 286,
   "metadata": {},
   "outputs": [],
   "source": [
    "# Define the CNN model\n",
    "class CNN(nn.Module):\n",
    "    def __init__(self, input_dim, output_dim):\n",
    "        super(CNN, self).__init__()\n",
    "        self.input_dim = input_dim\n",
    "        self.output_dim = output_dim\n",
    "\n",
    "        k1, p1 = 2, 1\n",
    "        k2, p2 = 2, 1\n",
    "        k3, p3 = 2, 1\n",
    "        pool_size = 2\n",
    "        pool_stride = 2\n",
    "\n",
    "        self.conv1 = nn.Conv2d(1, 32, kernel_size=k1, padding=p1)\n",
    "        self.conv2 = nn.Conv2d(32, 64, kernel_size=k2, padding=p2)\n",
    "        self.conv3 = nn.Conv2d(64, 64, kernel_size=k3, padding=p3)\n",
    "        self.pool = nn.MaxPool2d(kernel_size=pool_size, stride=pool_stride)\n",
    "        \n",
    "        # Calculate the size of the feature maps after convolutions and pooling\n",
    "        h1 = input_dim[2] + 2*p1 - (k1-1)\n",
    "        w1 = input_dim[3] + 2*p1 - (k1-1)\n",
    "        h2 = h1 + 2*p2 - (k2-1)\n",
    "        w2 = w1 + 2*p2 - (k2-1)\n",
    "        h3 = h2 + 2*p3 - (k3-1)\n",
    "        w3 = w2 + 2*p3 - (k3-1)\n",
    "        hpool = (h3 - (pool_size-1) - 1) // pool_stride + 1\n",
    "        wpool = (w3 - (pool_size-1)-1) // pool_stride + 1\n",
    "\n",
    "        #print('h1: ', h1, 'w1: ', w1, 'h2: ', h2, 'w2: ', w2, 'h3: ', h3, 'w3: ', w3, 'hpool: ', hpool, 'wpool: ', wpool)\n",
    "\n",
    "        # calculate the output size of the conv layers\n",
    "        conv_output_size = hpool * wpool * 64\n",
    "\n",
    "        #print('conv_output_size: ', conv_output_size)\n",
    "        \n",
    "        self.fc1 = nn.Linear(conv_output_size, 32)\n",
    "        self.fc2 = nn.Linear(32, 32)\n",
    "        self.fc3 = nn.Linear(32, output_dim[2] * output_dim[3])\n",
    "\n",
    "    def forward(self, x):\n",
    "        x = torch.relu(self.conv1(x))\n",
    "        #print('x after conv1', x.shape)\n",
    "        x = torch.relu(self.conv2(x))\n",
    "        #print('x after conv2', x.shape)\n",
    "        x = torch.relu(self.conv3(x))\n",
    "        #print('x after conv3', x.shape)\n",
    "        x = self.pool(x)\n",
    "        #print('x after pool', x.shape)\n",
    "        x = x.view(x.size(0), -1)\n",
    "        #print('x after view', x.shape)\n",
    "        x = torch.relu(self.fc1(x))\n",
    "        #print('x after fc1', x.shape)\n",
    "        x = torch.relu(self.fc2(x))\n",
    "        #print('x after fc2', x.shape)\n",
    "        x = self.fc3(x)\n",
    "        return x.view(-1, self.output_dim[2], self.output_dim[3])\n",
    "    \n",
    "def train(model, inputs, outputs, num_epochs=300, learning_rate=0.001):\n",
    "    criterion = nn.MSELoss()\n",
    "    optimizer = optim.Adam(model.parameters(), lr=learning_rate)\n",
    "\n",
    "    for epoch in range(num_epochs):\n",
    "        total_loss = 0\n",
    "        for i in range(len(inputs)):\n",
    "            input_tensor = inputs[i]\n",
    "            output_tensor = outputs[i]\n",
    "            \n",
    "            # Forward pass\n",
    "            prediction = model(input_tensor)\n",
    "            loss = criterion(prediction, output_tensor)\n",
    "            \n",
    "            # Backward pass and optimize\n",
    "            optimizer.zero_grad()\n",
    "            loss.backward()\n",
    "            optimizer.step()\n",
    "            \n",
    "            total_loss += loss.item()\n",
    "        \n",
    "        avg_loss = total_loss / len(inputs)\n",
    "        if (epoch + 1) % num_epochs == 0:\n",
    "            #print(f'Epoch [{epoch+1}/{num_epochs}], Average Loss: {avg_loss:.4f}')\n",
    "            pass\n",
    "    \n",
    "    return model\n",
    "\n",
    "# Function to make predictions\n",
    "def predict(model, input_data):\n",
    "    # ignore warnings\n",
    "    warnings.filterwarnings(\"ignore\")\n",
    "    model.eval()\n",
    "    with torch.no_grad():\n",
    "        input_tensor = input_data.clone().detach()\n",
    "        output = model(input_tensor)\n",
    "\n",
    "    output = output.squeeze().numpy()\n",
    "\n",
    "    # round the output to the nearest integer\n",
    "    output = np.round(output).astype(int)\n",
    "    \n",
    "    return output"
   ]
  },
  {
   "cell_type": "code",
   "execution_count": 287,
   "metadata": {},
   "outputs": [
    {
     "name": "stdout",
     "output_type": "stream",
     "text": [
      "1698/1702 99.76%\r"
     ]
    }
   ],
   "source": [
    "from sklearn.preprocessing import MaxAbsScaler\n",
    "\n",
    "trained_models = {\n",
    "    'challenge_id': [],\n",
    "    'model': [],\n",
    "    'fc2_weights': [],\n",
    "    'accuracy': []\n",
    "}\n",
    "\n",
    "# unpack the items of the dataset in a loop\n",
    "i = 0\n",
    "\n",
    "num_challenges = len(dataset)\n",
    "\n",
    "while i < len(dataset):\n",
    "\n",
    "    # print progress i/num_challenges * 100 deleting the last line\n",
    "    print(f'{i}/{num_challenges} {i/num_challenges * 100:.2f}%', end='\\r')\n",
    "\n",
    "\n",
    "    inputs = [dataset.iloc[i]['input']]\n",
    "    outputs = [dataset.iloc[i]['output']]\n",
    "\n",
    "    challenge_id = dataset.iloc[i]['challenge_id']\n",
    "\n",
    "    k = i+1\n",
    "\n",
    "    while k < len(dataset) and dataset.iloc[k]['challenge_id'] == challenge_id and inputs[-1].shape == dataset.iloc[k]['input'].shape and outputs[-1].shape == dataset.iloc[k]['output'].shape:\n",
    "        inputs.append(dataset.iloc[k]['input'])\n",
    "        outputs.append(dataset.iloc[k]['output'])\n",
    "        k += 1\n",
    "\n",
    "    model = CNN(inputs[0].shape, outputs[0].shape)\n",
    "\n",
    "    try:\n",
    "        trained_model = train(model, inputs, outputs)\n",
    "    except:\n",
    "        raise Exception('Error in training the model with challenge_id: ', challenge_id)\n",
    "        \n",
    "\n",
    "    correct = 0\n",
    "\n",
    "    for j in range(len(inputs)):\n",
    "\n",
    "        # predict the output\n",
    "        try:\n",
    "            prediction = predict(trained_model, inputs[j])\n",
    "        except:\n",
    "            raise Exception('Error in training the model with challenge_id: ', challenge_id)\n",
    "\n",
    "        correct_output = outputs[j].squeeze().numpy().astype(int)\n",
    "\n",
    "        if np.array_equal(prediction, correct_output):\n",
    "            correct += 1\n",
    "\n",
    "        else:\n",
    "            #print('prediction', prediction)\n",
    "            #print('output', correct_output)\n",
    "            pass\n",
    "\n",
    "    # Extract the weights of the fc2 layer\n",
    "    fc2_weights = trained_model.fc2.weight.data\n",
    "    fc2_weights_numpy = fc2_weights.cpu().numpy()  # Convert to NumPy array if needed\n",
    "    fc2_weights_numpy = fc2_weights_numpy.flatten() # reshape into a 1D array\n",
    "    max_weight = np.max(np.abs(fc2_weights_numpy))\n",
    "    scaled_fc2_weights = fc2_weights_numpy / max_weight\n",
    "\n",
    "\n",
    "    # add to the trained_models dict\n",
    "    trained_models['challenge_id'].append(challenge_id)\n",
    "    trained_models['model'].append(trained_model)\n",
    "    trained_models['fc2_weights'].append(scaled_fc2_weights)\n",
    "    trained_models['accuracy'].append(correct / len(inputs))\n",
    "\n",
    "    i = k + 1\n",
    "\n",
    "trained_models_df = pd.DataFrame(trained_models)"
   ]
  },
  {
   "cell_type": "code",
   "execution_count": 288,
   "metadata": {},
   "outputs": [
    {
     "data": {
      "text/plain": [
       "(1024,)"
      ]
     },
     "execution_count": 288,
     "metadata": {},
     "output_type": "execute_result"
    }
   ],
   "source": [
    "# inspect the shape of the first weight\n",
    "trained_models_df['fc2_weights'][0].shape"
   ]
  },
  {
   "cell_type": "code",
   "execution_count": 289,
   "metadata": {},
   "outputs": [
    {
     "name": "stdout",
     "output_type": "stream",
     "text": [
      "Mean accuracy:  0.9916252759381899\n",
      "Median accuracy:  1.0\n",
      "Min accuracy:  0.0\n",
      "Max accuracy:  1.0\n"
     ]
    },
    {
     "data": {
      "image/png": "[encoded data removed]",
      "text/plain": [
       "<Figure size 640x480 with 1 Axes>"
      ]
     },
     "metadata": {},
     "output_type": "display_data"
    }
   ],
   "source": [
    "print('Mean accuracy: ', trained_models_df['accuracy'].mean())\n",
    "print('Median accuracy: ', trained_models_df['accuracy'].median())\n",
    "print('Min accuracy: ', trained_models_df['accuracy'].min())\n",
    "print('Max accuracy: ', trained_models_df['accuracy'].max())\n",
    "\n",
    "\n",
    "# boxplot of the accuracies\n",
    "import matplotlib.pyplot as plt\n",
    "\n",
    "plt.boxplot(trained_models_df['accuracy'])\n",
    "plt.show()\n"
   ]
  },
  {
   "cell_type": "code",
   "execution_count": 290,
   "metadata": {},
   "outputs": [
    {
     "name": "stdout",
     "output_type": "stream",
     "text": [
      "Mean distance:  22.21482205997627\n",
      "Median distance:  22.355449676513672\n",
      "Min distance:  12.640295028686523\n",
      "Max distance:  26.826082229614258\n"
     ]
    }
   ],
   "source": [
    "num_models = len(trained_models_df)\n",
    "\n",
    "# create a ndarray to store distances between models\n",
    "distances = np.zeros((num_models, num_models))\n",
    "\n",
    "# calculate the distances between the models\n",
    "for i in range(num_models):\n",
    "    for j in range(num_models):\n",
    "        if i == j:\n",
    "            distances[i, j] = 0\n",
    "        else:\n",
    "            # calculate euclidean distance between the two models\n",
    "            distances[i, j] = np.linalg.norm(trained_models_df['fc2_weights'][i] - trained_models_df['fc2_weights'][j])\n",
    "\n",
    "not_zero_distances = distances[distances != 0]\n",
    "\n",
    "print('Mean distance: ', not_zero_distances.mean())\n",
    "print('Median distance: ', np.median(not_zero_distances))\n",
    "print('Min distance: ', not_zero_distances.min())\n",
    "print('Max distance: ', not_zero_distances.max())"
   ]
  },
  {
   "cell_type": "code",
   "execution_count": 291,
   "metadata": {},
   "outputs": [
    {
     "name": "stdout",
     "output_type": "stream",
     "text": [
      "Models with the same challenge_id:  227\n",
      "Mean distance between models with the same challenge_id:  22.945426193102865\n",
      "Median distance between models with the same challenge_id:  22.963272094726562\n",
      "Min distance between models with the same challenge_id:  19.875211715698242\n",
      "Max distance between models with the same challenge_id:  25.943817138671875\n"
     ]
    },
    {
     "data": {
      "image/png": "[encoded data removed]",
      "text/plain": [
       "<Figure size 640x480 with 1 Axes>"
      ]
     },
     "metadata": {},
     "output_type": "display_data"
    }
   ],
   "source": [
    "same_key_distances = []\n",
    "for i in range(num_models):\n",
    "    for j in range(i+1, num_models):\n",
    "        if trained_models_df['challenge_id'][i] == trained_models_df['challenge_id'][j]:\n",
    "            same_key_distances.append(distances[i, j])\n",
    "\n",
    "print('Models with the same challenge_id: ', len(same_key_distances))\n",
    "print('Mean distance between models with the same challenge_id: ', np.mean(same_key_distances))\n",
    "print('Median distance between models with the same challenge_id: ', np.median(same_key_distances))\n",
    "print('Min distance between models with the same challenge_id: ', np.min(same_key_distances))\n",
    "print('Max distance between models with the same challenge_id: ', np.max(same_key_distances))\n",
    "\n",
    "# double boxplot of the distances\n",
    "plt.boxplot([not_zero_distances, same_key_distances])\n",
    "plt.xticks([1, 2], ['All models', 'Models with the same challenge_id'])\n",
    "plt.show()"
   ]
  }
 ],
 "metadata": {
  "kernelspec": {
   "display_name": "arcenv",
   "language": "python",
   "name": "python3"
  },
  "language_info": {
   "codemirror_mode": {
    "name": "ipython",
    "version": 3
   },
   "file_extension": ".py",
   "mimetype": "text/x-python",
   "name": "python",
   "nbconvert_exporter": "python",
   "pygments_lexer": "ipython3",
   "version": "3.12.4"
  }
 },
 "nbformat": 4,
 "nbformat_minor": 2
}
